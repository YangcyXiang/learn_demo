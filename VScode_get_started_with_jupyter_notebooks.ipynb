{
 "cells": [
  {
   "cell_type": "code",
   "execution_count": 8,
   "metadata": {},
   "outputs": [
    {
     "name": "stdout",
     "output_type": "stream",
     "text": [
      "1. Create or open a Jupyter Notebook\n",
      "create a new file with an .ipynb extension\n",
      "Or open the Command Palette 'Ctrl + Shift + P' and run 'Create: New Jupyter Notebook' \n",
      "2. Select a jupyter kernel\n",
      "Click select kernel at top right of the notebook and choose the environment\n",
      "Or open the Command Palette 'Ctrl + Shift + P' and run 'Notebook: Select Notebook Kernel' \n",
      "3. Explore data and debug\n",
      "You can use the 'Data Viewer' to view, sort and filter the rows of data\n",
      "After loading data, click 'Variables' at the top right of notebook and click the data viewer icon to the left of the data table\n",
      "Debug your notebook using the 'Run by line' mode to execute a cell one line at a time. \n",
      "Click the Run by Line icon from your cell or hit F10 \n"
     ]
    }
   ],
   "source": [
    "print(\"1. Create or open a Jupyter Notebook\")\n",
    "print(\"create a new file with an .ipynb extension\")\n",
    "print(\"Or open the Command Palette 'Ctrl + Shift + P' and run 'Create: New Jupyter Notebook' \", end='\\n')\n",
    "\n",
    "print(\"2. Select a jupyter kernel\")\n",
    "print(\"Click select kernel at top right of the notebook and choose the environment\")\n",
    "print(\"Or open the Command Palette 'Ctrl + Shift + P' and run 'Notebook: Select Notebook Kernel' \", end='\\n')\n",
    "\n",
    "print(\"3. Explore data and debug\")\n",
    "print(\"You can use the 'Data Viewer' to view, sort and filter the rows of data\")\n",
    "print(\"After loading data, click 'Variables' at the top right of notebook and click the data viewer icon to the left of the data table\")\n",
    "print(\"Debug your notebook using the 'Run by line' mode to execute a cell one line at a time. \")\n",
    "print(\"Click the Run by Line icon from your cell or hit F10 \")\n",
    "\n",
    "a = \"this is for Data Viewer\"\n",
    "\n"
   ]
  }
 ],
 "metadata": {
  "kernelspec": {
   "display_name": "base",
   "language": "python",
   "name": "python3"
  },
  "language_info": {
   "codemirror_mode": {
    "name": "ipython",
    "version": 3
   },
   "file_extension": ".py",
   "mimetype": "text/x-python",
   "name": "python",
   "nbconvert_exporter": "python",
   "pygments_lexer": "ipython3",
   "version": "3.12.3"
  }
 },
 "nbformat": 4,
 "nbformat_minor": 2
}
